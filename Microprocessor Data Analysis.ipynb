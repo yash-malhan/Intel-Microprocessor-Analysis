{
 "cells": [
  {
   "cell_type": "markdown",
   "id": "79bc30c4-30b4-4b1d-bcaf-8940193c91b9",
   "metadata": {},
   "source": [
    "# Microprossor Weekly Forecasts and Orders Data Analysis\n",
    "\n",
    "Source: Matthew P. Manary, Sean P. Willems (2021) Data Set: 187 Weeks of Customer Forecasts and Orders for Microprocessors from Intel Corporation. Manufacturing & Service Operations Management 0(0).https://doi.org/10.1287/msom.2020.0933"
   ]
  },
  {
   "cell_type": "markdown",
   "id": "326e3ece-e4b5-4ad2-b8ad-38016960a133",
   "metadata": {},
   "source": [
    "<HR/>\n",
    "\n",
    "## <font color='red'/>Student Name:</font>\n",
    "\n",
    "#### *Yash Malhan*"
   ]
  },
  {
   "cell_type": "markdown",
   "id": "9e1197f0-afc3-4787-9857-aa0a5fe075c6",
   "metadata": {},
   "source": [
    "<hr/>\n",
    "\n",
    "\n",
    "## <font color='blue'>Context</font>\n",
    "\n",
    "<HR/>\n",
    "\n",
    "We will work with a dataset that contains weekly data for Intel microprocessors for 187 consecutive weeks. The dataset comprises of forecast and customer order numbers for 86 Stock Keeping Units (SKUs) that represent five product generations. The demand is grouped by SKU and Distribution Centers (DCs) and a total of 5 DCs are present in the data. In addition to forecasts and orders, the dataset provides the Average Selling Price (ASP) category. I have modified the data from its orginal form to allow us to practice our data cleaning skills.\n",
    "\n",
    "**This dataset can be used to examine demand distributions, forecast accuracy, differences in product generations and pricing.**\n",
    "\n",
    "<BR/>\n",
    "<BR/>\n",
    "<HR/>\n"
   ]
  },
  {
   "cell_type": "markdown",
   "id": "ecb78334-77de-4ef5-8980-c4d4e0d8375e",
   "metadata": {},
   "source": [
    "### Start by reading the data into a data frame and examining it. The data is in the file \"Microprocessor_Forecasts_Orders.csv\" located in the scratch folder. "
   ]
  },
  {
   "cell_type": "code",
   "execution_count": 27,
   "id": "88843a15-85da-4a24-9071-2f7fae86c534",
   "metadata": {},
   "outputs": [
    {
     "data": {
      "text/html": [
       "<div>\n",
       "<style scoped>\n",
       "    .dataframe tbody tr th:only-of-type {\n",
       "        vertical-align: middle;\n",
       "    }\n",
       "\n",
       "    .dataframe tbody tr th {\n",
       "        vertical-align: top;\n",
       "    }\n",
       "\n",
       "    .dataframe thead th {\n",
       "        text-align: right;\n",
       "    }\n",
       "</style>\n",
       "<table border=\"1\" class=\"dataframe\">\n",
       "  <thead>\n",
       "    <tr style=\"text-align: right;\">\n",
       "      <th></th>\n",
       "      <th>Distribution Center</th>\n",
       "      <th>SKU</th>\n",
       "      <th>ASP Group</th>\n",
       "      <th>Week</th>\n",
       "      <th>Forecasted Demand</th>\n",
       "      <th>Customer Orders</th>\n",
       "    </tr>\n",
       "  </thead>\n",
       "  <tbody>\n",
       "    <tr>\n",
       "      <th>0</th>\n",
       "      <td>ALPHA</td>\n",
       "      <td>SKU-A-2</td>\n",
       "      <td>1</td>\n",
       "      <td>1</td>\n",
       "      <td>8949</td>\n",
       "      <td>11146</td>\n",
       "    </tr>\n",
       "    <tr>\n",
       "      <th>1</th>\n",
       "      <td>ALPHA</td>\n",
       "      <td>SKU-B-2</td>\n",
       "      <td>1</td>\n",
       "      <td>1</td>\n",
       "      <td>11146</td>\n",
       "      <td>3503</td>\n",
       "    </tr>\n",
       "    <tr>\n",
       "      <th>2</th>\n",
       "      <td>ALPHA</td>\n",
       "      <td>SKU-C-1</td>\n",
       "      <td>3</td>\n",
       "      <td>1</td>\n",
       "      <td>1274</td>\n",
       "      <td>5892</td>\n",
       "    </tr>\n",
       "    <tr>\n",
       "      <th>3</th>\n",
       "      <td>ALPHA</td>\n",
       "      <td>SKU-C-2</td>\n",
       "      <td>4</td>\n",
       "      <td>1</td>\n",
       "      <td>20717</td>\n",
       "      <td>3185</td>\n",
       "    </tr>\n",
       "    <tr>\n",
       "      <th>4</th>\n",
       "      <td>ALPHA</td>\n",
       "      <td>SKU-F-1</td>\n",
       "      <td>6</td>\n",
       "      <td>1</td>\n",
       "      <td>24522</td>\n",
       "      <td>6529</td>\n",
       "    </tr>\n",
       "  </tbody>\n",
       "</table>\n",
       "</div>"
      ],
      "text/plain": [
       "  Distribution Center      SKU  ASP Group  Week  Forecasted Demand  \\\n",
       "0               ALPHA  SKU-A-2          1     1               8949   \n",
       "1               ALPHA  SKU-B-2          1     1              11146   \n",
       "2               ALPHA  SKU-C-1          3     1               1274   \n",
       "3               ALPHA  SKU-C-2          4     1              20717   \n",
       "4               ALPHA  SKU-F-1          6     1              24522   \n",
       "\n",
       "   Customer Orders  \n",
       "0            11146  \n",
       "1             3503  \n",
       "2             5892  \n",
       "3             3185  \n",
       "4             6529  "
      ]
     },
     "execution_count": 27,
     "metadata": {},
     "output_type": "execute_result"
    }
   ],
   "source": [
    "# read the data into a data frame called data and implement other meaningful steps.\n",
    "import pandas as pd\n",
    "import matplotlib.pyplot as plt\n",
    "\n",
    "intel_data = pd.read_csv('../scratch/Microprocessor_Forecasts_Orders.csv', na_values = \"*\")\n",
    "intel_data.head()\n",
    "#SKU A - 2\n",
    "#A is product name and 2 is the generation"
   ]
  },
  {
   "cell_type": "code",
   "execution_count": 28,
   "id": "168d38dd-413a-4caf-b415-6d054c2b2722",
   "metadata": {},
   "outputs": [
    {
     "name": "stdout",
     "output_type": "stream",
     "text": [
      "<class 'pandas.core.frame.DataFrame'>\n",
      "RangeIndex: 26114 entries, 0 to 26113\n",
      "Data columns (total 6 columns):\n",
      " #   Column               Non-Null Count  Dtype \n",
      "---  ------               --------------  ----- \n",
      " 0   Distribution Center  26114 non-null  object\n",
      " 1   SKU                  26114 non-null  object\n",
      " 2   ASP Group            26114 non-null  int64 \n",
      " 3   Week                 26114 non-null  int64 \n",
      " 4   Forecasted Demand    26114 non-null  int64 \n",
      " 5   Customer Orders      26114 non-null  int64 \n",
      "dtypes: int64(4), object(2)\n",
      "memory usage: 1.2+ MB\n"
     ]
    }
   ],
   "source": [
    "intel_data.info()"
   ]
  },
  {
   "cell_type": "markdown",
   "id": "dd4d581c-a817-409d-a8d2-5ad4d536b0e5",
   "metadata": {},
   "source": [
    "<BR/>\n",
    "<BR/>\n",
    "<HR/>"
   ]
  },
  {
   "cell_type": "markdown",
   "id": "6a02c9b6-dc50-4a2f-8b29-1a258eb5b3c8",
   "metadata": {},
   "source": [
    "### Compile the descriptive statistics."
   ]
  },
  {
   "cell_type": "code",
   "execution_count": 29,
   "id": "4aab081c-de15-4c8a-891e-99e5dc751b7f",
   "metadata": {},
   "outputs": [
    {
     "data": {
      "text/html": [
       "<div>\n",
       "<style scoped>\n",
       "    .dataframe tbody tr th:only-of-type {\n",
       "        vertical-align: middle;\n",
       "    }\n",
       "\n",
       "    .dataframe tbody tr th {\n",
       "        vertical-align: top;\n",
       "    }\n",
       "\n",
       "    .dataframe thead th {\n",
       "        text-align: right;\n",
       "    }\n",
       "</style>\n",
       "<table border=\"1\" class=\"dataframe\">\n",
       "  <thead>\n",
       "    <tr style=\"text-align: right;\">\n",
       "      <th></th>\n",
       "      <th>ASP Group</th>\n",
       "      <th>Week</th>\n",
       "      <th>Forecasted Demand</th>\n",
       "      <th>Customer Orders</th>\n",
       "    </tr>\n",
       "  </thead>\n",
       "  <tbody>\n",
       "    <tr>\n",
       "      <th>count</th>\n",
       "      <td>26114.000000</td>\n",
       "      <td>26114.000000</td>\n",
       "      <td>2.611400e+04</td>\n",
       "      <td>26114.000000</td>\n",
       "    </tr>\n",
       "    <tr>\n",
       "      <th>mean</th>\n",
       "      <td>10.658229</td>\n",
       "      <td>98.097381</td>\n",
       "      <td>3.902315e+04</td>\n",
       "      <td>12324.722180</td>\n",
       "    </tr>\n",
       "    <tr>\n",
       "      <th>std</th>\n",
       "      <td>5.240162</td>\n",
       "      <td>50.980936</td>\n",
       "      <td>8.262289e+04</td>\n",
       "      <td>21509.126255</td>\n",
       "    </tr>\n",
       "    <tr>\n",
       "      <th>min</th>\n",
       "      <td>1.000000</td>\n",
       "      <td>1.000000</td>\n",
       "      <td>0.000000e+00</td>\n",
       "      <td>16.000000</td>\n",
       "    </tr>\n",
       "    <tr>\n",
       "      <th>25%</th>\n",
       "      <td>7.000000</td>\n",
       "      <td>57.000000</td>\n",
       "      <td>1.592000e+03</td>\n",
       "      <td>1035.000000</td>\n",
       "    </tr>\n",
       "    <tr>\n",
       "      <th>50%</th>\n",
       "      <td>12.000000</td>\n",
       "      <td>98.000000</td>\n",
       "      <td>9.076000e+03</td>\n",
       "      <td>4299.000000</td>\n",
       "    </tr>\n",
       "    <tr>\n",
       "      <th>75%</th>\n",
       "      <td>14.000000</td>\n",
       "      <td>139.750000</td>\n",
       "      <td>3.564900e+04</td>\n",
       "      <td>14013.000000</td>\n",
       "    </tr>\n",
       "    <tr>\n",
       "      <th>max</th>\n",
       "      <td>22.000000</td>\n",
       "      <td>187.000000</td>\n",
       "      <td>1.150510e+06</td>\n",
       "      <td>381369.000000</td>\n",
       "    </tr>\n",
       "  </tbody>\n",
       "</table>\n",
       "</div>"
      ],
      "text/plain": [
       "          ASP Group          Week  Forecasted Demand  Customer Orders\n",
       "count  26114.000000  26114.000000       2.611400e+04     26114.000000\n",
       "mean      10.658229     98.097381       3.902315e+04     12324.722180\n",
       "std        5.240162     50.980936       8.262289e+04     21509.126255\n",
       "min        1.000000      1.000000       0.000000e+00        16.000000\n",
       "25%        7.000000     57.000000       1.592000e+03      1035.000000\n",
       "50%       12.000000     98.000000       9.076000e+03      4299.000000\n",
       "75%       14.000000    139.750000       3.564900e+04     14013.000000\n",
       "max       22.000000    187.000000       1.150510e+06    381369.000000"
      ]
     },
     "execution_count": 29,
     "metadata": {},
     "output_type": "execute_result"
    }
   ],
   "source": [
    "intel_data.describe()"
   ]
  },
  {
   "cell_type": "markdown",
   "id": "67fdf789-79a2-44c9-8054-e176aff232fa",
   "metadata": {},
   "source": [
    "<BR/>\n",
    "<BR/>\n",
    "<HR/>"
   ]
  },
  {
   "cell_type": "markdown",
   "id": "3d822a23-b1c7-4b6d-80e7-45ac07d5423a",
   "metadata": {},
   "source": [
    "### Confirm that there are as many weeks, SKUs and DCs as stated in the context. List the unique SKU and DC values."
   ]
  },
  {
   "cell_type": "code",
   "execution_count": 30,
   "id": "d071d683-9fcf-499b-9baf-e42466a49d92",
   "metadata": {},
   "outputs": [
    {
     "name": "stdout",
     "output_type": "stream",
     "text": [
      "187\n",
      "86\n",
      "5\n",
      "['SKU-A-2' 'SKU-B-2' 'SKU-C-1' 'SKU-C-2' 'SKU-F-1' 'SKU-F-2' 'SKU-H-2'\n",
      " 'SKU-I-2' 'SKU-J-2' 'SKU-K-2' 'SKU-L-1' 'SKU-L-2' 'SKU-M-2' 'SKU-O-1'\n",
      " 'SKU-O-2' 'SKU-Q-2' 'SKU-S-2' 'SKU-B-1' 'SKU-E-2' 'SKU-G-2' 'SKU-H-1'\n",
      " 'SKU-K-1' 'SKU-N-2' 'SKU-Q-1' 'SKU-M-1' 'SKU-Q-3' 'SKU-C-3' 'SKU-F-3'\n",
      " 'SKU-H-3' 'SKU-K-3' 'SKU-O-3' 'SKU-B-3' 'SKU-G-3' 'SKU-L-3' 'SKU-N-3'\n",
      " 'SKU-A-3' 'SKU-E-3' 'SKU-I-3' 'SKU-S-3' 'SKU-U-3' 'SKU-T-3' 'SKU-J-3'\n",
      " 'SKU-B-4' 'SKU-O-4' 'SKU-Q-4' 'SKU-U-4' 'SKU-W-4' 'SKU-C-4' 'SKU-K-4'\n",
      " 'SKU-L-4' 'SKU-A-4' 'SKU-T-4' 'SKU-D-4' 'SKU-F-4' 'SKU-G-4' 'SKU-H-4'\n",
      " 'SKU-V-4' 'SKU-I-4' 'SKU-N-4' 'SKU-R-4' 'SKU-S-4' 'SKU-J-4' 'SKU-E-4'\n",
      " 'SKU-P-4' 'SKU-A-5' 'SKU-D-5' 'SKU-K-5' 'SKU-C-5' 'SKU-B-5' 'SKU-R-5'\n",
      " 'SKU-T-5' 'SKU-U-5' 'SKU-V-5' 'SKU-Y-5' 'SKU-X-5' 'SKU-L-5' 'SKU-Q-5'\n",
      " 'SKU-S-5' 'SKU-W-5' 'SKU-J-5' 'SKU-E-5' 'SKU-F-5' 'SKU-H-5' 'SKU-N-5'\n",
      " 'SKU-I-5' 'SKU-G-5']\n"
     ]
    },
    {
     "data": {
      "text/plain": [
       "array(['ALPHA', 'BETA', 'GAMMA', 'DELTA', 'EPSILON'], dtype=object)"
      ]
     },
     "execution_count": 30,
     "metadata": {},
     "output_type": "execute_result"
    }
   ],
   "source": [
    "# We will work with a dataset that contains weekly data for Intel microprocessors for 187 consecutive weeks. \n",
    "#The dataset comprises of forecast and customer order numbers for 86 Stock Keeping Units (SKUs) that represent five product generations.\n",
    "#The demand is grouped by SKU and Distribution Centers (DCs) and a total of 5 DCs are present in the data. In addition to forecasts and orders,\n",
    "#the dataset provides the Average Selling Price (ASP) category. I have modified the data from its orginal form to allow us to practice our data cleaning skills.\n",
    "print(intel_data['Week'].nunique())\n",
    "print(intel_data['SKU'].nunique())\n",
    "print(intel_data['Distribution Center'].nunique())\n",
    "\n",
    "print(intel_data['SKU'].unique())\n",
    "intel_data['Distribution Center'].unique()"
   ]
  },
  {
   "cell_type": "markdown",
   "id": "3787e2bf-60ce-483e-acaf-086ac81307f8",
   "metadata": {},
   "source": [
    "<BR/>\n",
    "<BR/>\n",
    "<HR/>"
   ]
  },
  {
   "cell_type": "markdown",
   "id": "db2ea922-6b7e-4530-b076-093d38e71350",
   "metadata": {},
   "source": [
    "### What is the highest number of generations of any SKU?"
   ]
  },
  {
   "cell_type": "code",
   "execution_count": 31,
   "id": "b4b69e82-b842-4c2a-a9ae-4c739268f8e2",
   "metadata": {},
   "outputs": [
    {
     "name": "stdout",
     "output_type": "stream",
     "text": [
      "     0  1  2 Product  Generation\n",
      "0  SKU  A  2       A           2\n",
      "1  SKU  B  2       B           2\n",
      "2  SKU  C  1       C           1\n",
      "3  SKU  C  2       C           2\n",
      "4  SKU  F  1       F           1\n"
     ]
    },
    {
     "data": {
      "text/html": [
       "<div>\n",
       "<style scoped>\n",
       "    .dataframe tbody tr th:only-of-type {\n",
       "        vertical-align: middle;\n",
       "    }\n",
       "\n",
       "    .dataframe tbody tr th {\n",
       "        vertical-align: top;\n",
       "    }\n",
       "\n",
       "    .dataframe thead th {\n",
       "        text-align: right;\n",
       "    }\n",
       "</style>\n",
       "<table border=\"1\" class=\"dataframe\">\n",
       "  <thead>\n",
       "    <tr style=\"text-align: right;\">\n",
       "      <th></th>\n",
       "      <th>0</th>\n",
       "      <th>Product</th>\n",
       "      <th>Generation</th>\n",
       "    </tr>\n",
       "  </thead>\n",
       "  <tbody>\n",
       "    <tr>\n",
       "      <th>0</th>\n",
       "      <td>SKU</td>\n",
       "      <td>A</td>\n",
       "      <td>2</td>\n",
       "    </tr>\n",
       "    <tr>\n",
       "      <th>1</th>\n",
       "      <td>SKU</td>\n",
       "      <td>B</td>\n",
       "      <td>2</td>\n",
       "    </tr>\n",
       "    <tr>\n",
       "      <th>2</th>\n",
       "      <td>SKU</td>\n",
       "      <td>C</td>\n",
       "      <td>1</td>\n",
       "    </tr>\n",
       "    <tr>\n",
       "      <th>3</th>\n",
       "      <td>SKU</td>\n",
       "      <td>C</td>\n",
       "      <td>2</td>\n",
       "    </tr>\n",
       "    <tr>\n",
       "      <th>4</th>\n",
       "      <td>SKU</td>\n",
       "      <td>F</td>\n",
       "      <td>1</td>\n",
       "    </tr>\n",
       "    <tr>\n",
       "      <th>...</th>\n",
       "      <td>...</td>\n",
       "      <td>...</td>\n",
       "      <td>...</td>\n",
       "    </tr>\n",
       "    <tr>\n",
       "      <th>26109</th>\n",
       "      <td>SKU</td>\n",
       "      <td>V</td>\n",
       "      <td>4</td>\n",
       "    </tr>\n",
       "    <tr>\n",
       "      <th>26110</th>\n",
       "      <td>SKU</td>\n",
       "      <td>V</td>\n",
       "      <td>5</td>\n",
       "    </tr>\n",
       "    <tr>\n",
       "      <th>26111</th>\n",
       "      <td>SKU</td>\n",
       "      <td>W</td>\n",
       "      <td>4</td>\n",
       "    </tr>\n",
       "    <tr>\n",
       "      <th>26112</th>\n",
       "      <td>SKU</td>\n",
       "      <td>W</td>\n",
       "      <td>5</td>\n",
       "    </tr>\n",
       "    <tr>\n",
       "      <th>26113</th>\n",
       "      <td>SKU</td>\n",
       "      <td>X</td>\n",
       "      <td>5</td>\n",
       "    </tr>\n",
       "  </tbody>\n",
       "</table>\n",
       "<p>26114 rows × 3 columns</p>\n",
       "</div>"
      ],
      "text/plain": [
       "         0 Product  Generation\n",
       "0      SKU       A           2\n",
       "1      SKU       B           2\n",
       "2      SKU       C           1\n",
       "3      SKU       C           2\n",
       "4      SKU       F           1\n",
       "...    ...     ...         ...\n",
       "26109  SKU       V           4\n",
       "26110  SKU       V           5\n",
       "26111  SKU       W           4\n",
       "26112  SKU       W           5\n",
       "26113  SKU       X           5\n",
       "\n",
       "[26114 rows x 3 columns]"
      ]
     },
     "execution_count": 31,
     "metadata": {},
     "output_type": "execute_result"
    }
   ],
   "source": [
    "#split the SKU column by '-'\n",
    "new_data =intel_data['SKU'].str.split('-', expand = True)\n",
    "\n",
    "\n",
    "new_data['Product'] = new_data[1]\n",
    "new_data['Generation'] = new_data[2].astype(int)\n",
    "print(new_data.head())\n",
    "new_data['Generation'].max()\n",
    "\n",
    "\n",
    "intel_data['Product'] = new_data['Product']\n",
    "intel_data['Generation'] = new_data['Generation']\n",
    "new_data.drop([1,2], axis = 1)"
   ]
  },
  {
   "cell_type": "markdown",
   "id": "6c9a61f1-b603-4603-9921-4a5c6edda851",
   "metadata": {},
   "source": [
    "<BR/>\n",
    "<BR/>\n",
    "<HR/>"
   ]
  },
  {
   "cell_type": "markdown",
   "id": "f9cecbba-4fc3-468d-8965-bb161369e590",
   "metadata": {},
   "source": [
    "### Create a visualization that allows the reader to see how many products (SKUs) are at different stages of maturity. What do you conclude from this analysis?"
   ]
  },
  {
   "cell_type": "code",
   "execution_count": 32,
   "id": "03f77261-6094-4650-98f7-354ed6a160e4",
   "metadata": {},
   "outputs": [
    {
     "data": {
      "image/png": "[encoded data removed]",
      "text/plain": [
       "<Figure size 432x288 with 1 Axes>"
      ]
     },
     "metadata": {
      "needs_background": "light"
     },
     "output_type": "display_data"
    }
   ],
   "source": [
    "#rename column \n",
    "new_data.rename(columns = {0 : 'SKU'})\n",
    "\n",
    "new_data.groupby('Generation')['Product'].nunique().plot(kind = 'bar');"
   ]
  },
  {
   "cell_type": "code",
   "execution_count": 33,
   "id": "769633a6-01cb-4711-abd1-b28e740818ca",
   "metadata": {},
   "outputs": [],
   "source": [
    "gendata = new_data.groupby('Product')['Generation'].max()"
   ]
  },
  {
   "cell_type": "code",
   "execution_count": 34,
   "id": "e64f2716-be6c-4f01-8455-75a43e71903b",
   "metadata": {},
   "outputs": [
    {
     "data": {
      "image/png": "[encoded data removed]",
      "text/plain": [
       "<Figure size 432x288 with 1 Axes>"
      ]
     },
     "metadata": {
      "needs_background": "light"
     },
     "output_type": "display_data"
    }
   ],
   "source": [
    "gendata.plot(kind = 'hist');"
   ]
  },
  {
   "cell_type": "markdown",
   "id": "377ccf8f-dd33-45cb-807b-9c521e63ab92",
   "metadata": {},
   "source": [
    "<BR/>\n",
    "<BR/>\n",
    "<HR/>"
   ]
  },
  {
   "cell_type": "markdown",
   "id": "ecfe0ba2-a5e6-42ae-a7e0-56939986f6b5",
   "metadata": {},
   "source": [
    "### Analyze the distribution of weekly demand to identify patterns and also analyze the distribution of overall demand and demand across the five DCs and note your observations."
   ]
  },
  {
   "cell_type": "code",
   "execution_count": 35,
   "id": "a3594063-e2b6-4fc1-b65c-7523cad370cd",
   "metadata": {},
   "outputs": [
    {
     "data": {
      "text/plain": [
       "count     26114.000000\n",
       "mean      12324.722180\n",
       "std       21509.126255\n",
       "min          16.000000\n",
       "25%        1035.000000\n",
       "50%        4299.000000\n",
       "75%       14013.000000\n",
       "max      381369.000000\n",
       "Name: Customer Orders, dtype: float64"
      ]
     },
     "execution_count": 35,
     "metadata": {},
     "output_type": "execute_result"
    }
   ],
   "source": [
    "intel_data['Customer Orders'].describe()"
   ]
  },
  {
   "cell_type": "code",
   "execution_count": 36,
   "id": "383bca8c-b01d-4e1c-b52b-28f2c3856739",
   "metadata": {},
   "outputs": [
    {
     "data": {
      "text/html": [
       "<div>\n",
       "<style scoped>\n",
       "    .dataframe tbody tr th:only-of-type {\n",
       "        vertical-align: middle;\n",
       "    }\n",
       "\n",
       "    .dataframe tbody tr th {\n",
       "        vertical-align: top;\n",
       "    }\n",
       "\n",
       "    .dataframe thead th {\n",
       "        text-align: right;\n",
       "    }\n",
       "</style>\n",
       "<table border=\"1\" class=\"dataframe\">\n",
       "  <thead>\n",
       "    <tr style=\"text-align: right;\">\n",
       "      <th></th>\n",
       "      <th>Distribution Center</th>\n",
       "      <th>SKU</th>\n",
       "      <th>ASP Group</th>\n",
       "      <th>Week</th>\n",
       "      <th>Forecasted Demand</th>\n",
       "      <th>Customer Orders</th>\n",
       "      <th>Product</th>\n",
       "      <th>Generation</th>\n",
       "    </tr>\n",
       "  </thead>\n",
       "  <tbody>\n",
       "    <tr>\n",
       "      <th>0</th>\n",
       "      <td>ALPHA</td>\n",
       "      <td>SKU-A-2</td>\n",
       "      <td>1</td>\n",
       "      <td>1</td>\n",
       "      <td>8949</td>\n",
       "      <td>11146</td>\n",
       "      <td>A</td>\n",
       "      <td>2</td>\n",
       "    </tr>\n",
       "    <tr>\n",
       "      <th>1</th>\n",
       "      <td>ALPHA</td>\n",
       "      <td>SKU-B-2</td>\n",
       "      <td>1</td>\n",
       "      <td>1</td>\n",
       "      <td>11146</td>\n",
       "      <td>3503</td>\n",
       "      <td>B</td>\n",
       "      <td>2</td>\n",
       "    </tr>\n",
       "    <tr>\n",
       "      <th>2</th>\n",
       "      <td>ALPHA</td>\n",
       "      <td>SKU-C-1</td>\n",
       "      <td>3</td>\n",
       "      <td>1</td>\n",
       "      <td>1274</td>\n",
       "      <td>5892</td>\n",
       "      <td>C</td>\n",
       "      <td>1</td>\n",
       "    </tr>\n",
       "    <tr>\n",
       "      <th>3</th>\n",
       "      <td>ALPHA</td>\n",
       "      <td>SKU-C-2</td>\n",
       "      <td>4</td>\n",
       "      <td>1</td>\n",
       "      <td>20717</td>\n",
       "      <td>3185</td>\n",
       "      <td>C</td>\n",
       "      <td>2</td>\n",
       "    </tr>\n",
       "    <tr>\n",
       "      <th>4</th>\n",
       "      <td>ALPHA</td>\n",
       "      <td>SKU-F-1</td>\n",
       "      <td>6</td>\n",
       "      <td>1</td>\n",
       "      <td>24522</td>\n",
       "      <td>6529</td>\n",
       "      <td>F</td>\n",
       "      <td>1</td>\n",
       "    </tr>\n",
       "  </tbody>\n",
       "</table>\n",
       "</div>"
      ],
      "text/plain": [
       "  Distribution Center      SKU  ASP Group  Week  Forecasted Demand  \\\n",
       "0               ALPHA  SKU-A-2          1     1               8949   \n",
       "1               ALPHA  SKU-B-2          1     1              11146   \n",
       "2               ALPHA  SKU-C-1          3     1               1274   \n",
       "3               ALPHA  SKU-C-2          4     1              20717   \n",
       "4               ALPHA  SKU-F-1          6     1              24522   \n",
       "\n",
       "   Customer Orders Product  Generation  \n",
       "0            11146       A           2  \n",
       "1             3503       B           2  \n",
       "2             5892       C           1  \n",
       "3             3185       C           2  \n",
       "4             6529       F           1  "
      ]
     },
     "execution_count": 36,
     "metadata": {},
     "output_type": "execute_result"
    },
    {
     "data": {
      "image/png": "[encoded data removed]",
      "text/plain": [
       "<Figure size 1080x432 with 1 Axes>"
      ]
     },
     "metadata": {
      "needs_background": "light"
     },
     "output_type": "display_data"
    }
   ],
   "source": [
    "\n",
    "#intel_data.plot(kind='line', x= 'Week', y = 'Customer Orders');\n",
    "\n",
    "\n",
    "grp_data = intel_data.groupby('Week')['Customer Orders'].sum()\n",
    "grp_data.plot(kind = 'line', figsize =(15,6));\n",
    "\n",
    "#print(grp_data.reset_index())\n",
    "intel_data.head()"
   ]
  },
  {
   "cell_type": "code",
   "execution_count": 37,
   "id": "1cf08866-a6c0-4f8a-bc89-f19491c1aba7",
   "metadata": {},
   "outputs": [
    {
     "name": "stdout",
     "output_type": "stream",
     "text": [
      "<class 'pandas.core.frame.DataFrame'>\n",
      "RangeIndex: 26114 entries, 0 to 26113\n",
      "Data columns (total 9 columns):\n",
      " #   Column               Non-Null Count  Dtype \n",
      "---  ------               --------------  ----- \n",
      " 0   Distribution Center  26114 non-null  object\n",
      " 1   SKU                  26114 non-null  object\n",
      " 2   ASP Group            26114 non-null  int64 \n",
      " 3   Week                 26114 non-null  int64 \n",
      " 4   Forecasted Demand    26114 non-null  int64 \n",
      " 5   Customer Orders      26114 non-null  int64 \n",
      " 6   Product              26114 non-null  object\n",
      " 7   Generation           26114 non-null  int64 \n",
      " 8   Year                 26114 non-null  int64 \n",
      "dtypes: int64(6), object(3)\n",
      "memory usage: 1.8+ MB\n"
     ]
    }
   ],
   "source": [
    "import numpy as np\n",
    "#conditions to columns values\n",
    "\n",
    "conditions = [ (intel_data['Week'] >= 1) & (intel_data['Week'] <= 52),\n",
    "             (intel_data['Week'] >= 53) & (intel_data['Week'] <= 104),\n",
    "             (intel_data['Week'] >= 105) & (intel_data['Week'] <=156),\n",
    "             (intel_data['Week'] >= 157 & (intel_data['Week'] <= 188))\n",
    "   ]\n",
    "\n",
    "choices = [1,2,3,4]\n",
    "\n",
    "\n",
    "intel_data['Year'] = np.select(conditions,choices,0)\n",
    "\n",
    "intel_data.head()\n",
    "intel_data.info()\n"
   ]
  },
  {
   "cell_type": "code",
   "execution_count": 38,
   "id": "0a4cb98d-401e-4b15-8842-55f2bd72485a",
   "metadata": {},
   "outputs": [
    {
     "data": {
      "image/png": "[encoded data removed]",
      "text/plain": [
       "<Figure size 432x288 with 1 Axes>"
      ]
     },
     "metadata": {
      "needs_background": "light"
     },
     "output_type": "display_data"
    }
   ],
   "source": [
    "intel_data.groupby('Year')['Customer Orders'].mean().plot(kind = 'bar');"
   ]
  },
  {
   "cell_type": "code",
   "execution_count": 47,
   "id": "dda1d1cc-f632-4c3f-ae02-03df59a22c60",
   "metadata": {},
   "outputs": [
    {
     "data": {
      "image/png": "[encoded data removed]",
      "text/plain": [
       "<Figure size 432x288 with 1 Axes>"
      ]
     },
     "metadata": {
      "needs_background": "light"
     },
     "output_type": "display_data"
    }
   ],
   "source": [
    "intel_data[intel_data['Year'] == 1].groupby('Week')['Customer Orders'].sum().reset_index()['Customer Orders'].plot(kind = 'line');\n",
    "intel_data[intel_data['Year'] == 2].groupby('Week')['Customer Orders'].sum().reset_index()['Customer Orders'].plot(kind = 'line');\n",
    "intel_data[intel_data['Year'] == 3].groupby('Week')['Customer Orders'].sum().reset_index()['Customer Orders'].plot(kind = 'line');\n",
    "intel_data[intel_data['Year'] == 4].groupby('Week')['Customer Orders'].sum().reset_index()['Customer Orders'].plot(kind = 'line');"
   ]
  },
  {
   "cell_type": "code",
   "execution_count": 40,
   "id": "d217d2a2-504b-4309-a54a-bb8b3124e7ac",
   "metadata": {},
   "outputs": [
    {
     "data": {
      "text/html": [
       "<div>\n",
       "<style scoped>\n",
       "    .dataframe tbody tr th:only-of-type {\n",
       "        vertical-align: middle;\n",
       "    }\n",
       "\n",
       "    .dataframe tbody tr th {\n",
       "        vertical-align: top;\n",
       "    }\n",
       "\n",
       "    .dataframe thead th {\n",
       "        text-align: right;\n",
       "    }\n",
       "</style>\n",
       "<table border=\"1\" class=\"dataframe\">\n",
       "  <thead>\n",
       "    <tr style=\"text-align: right;\">\n",
       "      <th>Distribution Center</th>\n",
       "      <th>ALPHA</th>\n",
       "      <th>BETA</th>\n",
       "      <th>DELTA</th>\n",
       "      <th>EPSILON</th>\n",
       "      <th>GAMMA</th>\n",
       "    </tr>\n",
       "    <tr>\n",
       "      <th>Product</th>\n",
       "      <th></th>\n",
       "      <th></th>\n",
       "      <th></th>\n",
       "      <th></th>\n",
       "      <th></th>\n",
       "    </tr>\n",
       "  </thead>\n",
       "  <tbody>\n",
       "    <tr>\n",
       "      <th>A</th>\n",
       "      <td>1918943.0</td>\n",
       "      <td>80393.0</td>\n",
       "      <td>2162353.0</td>\n",
       "      <td>2575635.0</td>\n",
       "      <td>5701156.0</td>\n",
       "    </tr>\n",
       "    <tr>\n",
       "      <th>B</th>\n",
       "      <td>4348567.0</td>\n",
       "      <td>96002.0</td>\n",
       "      <td>5023256.0</td>\n",
       "      <td>8201910.0</td>\n",
       "      <td>6561318.0</td>\n",
       "    </tr>\n",
       "    <tr>\n",
       "      <th>C</th>\n",
       "      <td>7745384.0</td>\n",
       "      <td>204435.0</td>\n",
       "      <td>14085345.0</td>\n",
       "      <td>20082163.0</td>\n",
       "      <td>11142476.0</td>\n",
       "    </tr>\n",
       "    <tr>\n",
       "      <th>D</th>\n",
       "      <td>78815.0</td>\n",
       "      <td>35504.0</td>\n",
       "      <td>778839.0</td>\n",
       "      <td>1586308.0</td>\n",
       "      <td>709076.0</td>\n",
       "    </tr>\n",
       "    <tr>\n",
       "      <th>E</th>\n",
       "      <td>80079.0</td>\n",
       "      <td>164472.0</td>\n",
       "      <td>1054449.0</td>\n",
       "      <td>2166229.0</td>\n",
       "      <td>1003678.0</td>\n",
       "    </tr>\n",
       "    <tr>\n",
       "      <th>F</th>\n",
       "      <td>4136773.0</td>\n",
       "      <td>138521.0</td>\n",
       "      <td>7538254.0</td>\n",
       "      <td>14652226.0</td>\n",
       "      <td>7441942.0</td>\n",
       "    </tr>\n",
       "    <tr>\n",
       "      <th>G</th>\n",
       "      <td>232463.0</td>\n",
       "      <td>63354.0</td>\n",
       "      <td>1014204.0</td>\n",
       "      <td>1754766.0</td>\n",
       "      <td>672149.0</td>\n",
       "    </tr>\n",
       "    <tr>\n",
       "      <th>H</th>\n",
       "      <td>2590273.0</td>\n",
       "      <td>63831.0</td>\n",
       "      <td>5738057.0</td>\n",
       "      <td>11706677.0</td>\n",
       "      <td>4089808.0</td>\n",
       "    </tr>\n",
       "    <tr>\n",
       "      <th>I</th>\n",
       "      <td>500304.0</td>\n",
       "      <td>125295.0</td>\n",
       "      <td>1490733.0</td>\n",
       "      <td>3522453.0</td>\n",
       "      <td>1016548.0</td>\n",
       "    </tr>\n",
       "    <tr>\n",
       "      <th>J</th>\n",
       "      <td>29921.0</td>\n",
       "      <td>13692.0</td>\n",
       "      <td>722511.0</td>\n",
       "      <td>1493626.0</td>\n",
       "      <td>355905.0</td>\n",
       "    </tr>\n",
       "    <tr>\n",
       "      <th>K</th>\n",
       "      <td>3145846.0</td>\n",
       "      <td>95683.0</td>\n",
       "      <td>7783370.0</td>\n",
       "      <td>12483286.0</td>\n",
       "      <td>4877062.0</td>\n",
       "    </tr>\n",
       "    <tr>\n",
       "      <th>L</th>\n",
       "      <td>640600.0</td>\n",
       "      <td>54124.0</td>\n",
       "      <td>4103229.0</td>\n",
       "      <td>10871015.0</td>\n",
       "      <td>2322053.0</td>\n",
       "    </tr>\n",
       "    <tr>\n",
       "      <th>M</th>\n",
       "      <td>194101.0</td>\n",
       "      <td>3979.0</td>\n",
       "      <td>522594.0</td>\n",
       "      <td>1374838.0</td>\n",
       "      <td>233324.0</td>\n",
       "    </tr>\n",
       "    <tr>\n",
       "      <th>N</th>\n",
       "      <td>293460.0</td>\n",
       "      <td>59856.0</td>\n",
       "      <td>1679137.0</td>\n",
       "      <td>3930246.0</td>\n",
       "      <td>1130559.0</td>\n",
       "    </tr>\n",
       "    <tr>\n",
       "      <th>O</th>\n",
       "      <td>1522296.0</td>\n",
       "      <td>59541.0</td>\n",
       "      <td>4240915.0</td>\n",
       "      <td>9588053.0</td>\n",
       "      <td>9354733.0</td>\n",
       "    </tr>\n",
       "    <tr>\n",
       "      <th>P</th>\n",
       "      <td>NaN</td>\n",
       "      <td>NaN</td>\n",
       "      <td>NaN</td>\n",
       "      <td>NaN</td>\n",
       "      <td>6424680.0</td>\n",
       "    </tr>\n",
       "    <tr>\n",
       "      <th>Q</th>\n",
       "      <td>977882.0</td>\n",
       "      <td>47115.0</td>\n",
       "      <td>4574132.0</td>\n",
       "      <td>15085983.0</td>\n",
       "      <td>5506476.0</td>\n",
       "    </tr>\n",
       "    <tr>\n",
       "      <th>R</th>\n",
       "      <td>8437.0</td>\n",
       "      <td>NaN</td>\n",
       "      <td>317977.0</td>\n",
       "      <td>790124.0</td>\n",
       "      <td>141232.0</td>\n",
       "    </tr>\n",
       "    <tr>\n",
       "      <th>S</th>\n",
       "      <td>811297.0</td>\n",
       "      <td>155550.0</td>\n",
       "      <td>3832884.0</td>\n",
       "      <td>9535024.0</td>\n",
       "      <td>2067288.0</td>\n",
       "    </tr>\n",
       "    <tr>\n",
       "      <th>T</th>\n",
       "      <td>163683.0</td>\n",
       "      <td>8116.0</td>\n",
       "      <td>834664.0</td>\n",
       "      <td>2229927.0</td>\n",
       "      <td>319130.0</td>\n",
       "    </tr>\n",
       "    <tr>\n",
       "      <th>U</th>\n",
       "      <td>416226.0</td>\n",
       "      <td>30396.0</td>\n",
       "      <td>1544773.0</td>\n",
       "      <td>7087891.0</td>\n",
       "      <td>747254.0</td>\n",
       "    </tr>\n",
       "    <tr>\n",
       "      <th>V</th>\n",
       "      <td>60345.0</td>\n",
       "      <td>NaN</td>\n",
       "      <td>545208.0</td>\n",
       "      <td>1274681.0</td>\n",
       "      <td>471018.0</td>\n",
       "    </tr>\n",
       "    <tr>\n",
       "      <th>W</th>\n",
       "      <td>27857.0</td>\n",
       "      <td>954.0</td>\n",
       "      <td>427575.0</td>\n",
       "      <td>3223245.0</td>\n",
       "      <td>277225.0</td>\n",
       "    </tr>\n",
       "    <tr>\n",
       "      <th>X</th>\n",
       "      <td>NaN</td>\n",
       "      <td>1592.0</td>\n",
       "      <td>77850.0</td>\n",
       "      <td>223728.0</td>\n",
       "      <td>25159.0</td>\n",
       "    </tr>\n",
       "    <tr>\n",
       "      <th>Y</th>\n",
       "      <td>NaN</td>\n",
       "      <td>NaN</td>\n",
       "      <td>NaN</td>\n",
       "      <td>NaN</td>\n",
       "      <td>2298246.0</td>\n",
       "    </tr>\n",
       "  </tbody>\n",
       "</table>\n",
       "</div>"
      ],
      "text/plain": [
       "Distribution Center      ALPHA      BETA       DELTA     EPSILON       GAMMA\n",
       "Product                                                                     \n",
       "A                    1918943.0   80393.0   2162353.0   2575635.0   5701156.0\n",
       "B                    4348567.0   96002.0   5023256.0   8201910.0   6561318.0\n",
       "C                    7745384.0  204435.0  14085345.0  20082163.0  11142476.0\n",
       "D                      78815.0   35504.0    778839.0   1586308.0    709076.0\n",
       "E                      80079.0  164472.0   1054449.0   2166229.0   1003678.0\n",
       "F                    4136773.0  138521.0   7538254.0  14652226.0   7441942.0\n",
       "G                     232463.0   63354.0   1014204.0   1754766.0    672149.0\n",
       "H                    2590273.0   63831.0   5738057.0  11706677.0   4089808.0\n",
       "I                     500304.0  125295.0   1490733.0   3522453.0   1016548.0\n",
       "J                      29921.0   13692.0    722511.0   1493626.0    355905.0\n",
       "K                    3145846.0   95683.0   7783370.0  12483286.0   4877062.0\n",
       "L                     640600.0   54124.0   4103229.0  10871015.0   2322053.0\n",
       "M                     194101.0    3979.0    522594.0   1374838.0    233324.0\n",
       "N                     293460.0   59856.0   1679137.0   3930246.0   1130559.0\n",
       "O                    1522296.0   59541.0   4240915.0   9588053.0   9354733.0\n",
       "P                          NaN       NaN         NaN         NaN   6424680.0\n",
       "Q                     977882.0   47115.0   4574132.0  15085983.0   5506476.0\n",
       "R                       8437.0       NaN    317977.0    790124.0    141232.0\n",
       "S                     811297.0  155550.0   3832884.0   9535024.0   2067288.0\n",
       "T                     163683.0    8116.0    834664.0   2229927.0    319130.0\n",
       "U                     416226.0   30396.0   1544773.0   7087891.0    747254.0\n",
       "V                      60345.0       NaN    545208.0   1274681.0    471018.0\n",
       "W                      27857.0     954.0    427575.0   3223245.0    277225.0\n",
       "X                          NaN    1592.0     77850.0    223728.0     25159.0\n",
       "Y                          NaN       NaN         NaN         NaN   2298246.0"
      ]
     },
     "execution_count": 40,
     "metadata": {},
     "output_type": "execute_result"
    }
   ],
   "source": [
    "hmData = intel_data.pivot_table(index = 'Product', columns = 'Distribution Center', values = 'Customer Orders', aggfunc = np.sum)\n",
    "hmData"
   ]
  },
  {
   "cell_type": "code",
   "execution_count": 41,
   "id": "d34efe13-45c6-4dc3-b54f-bfeed9b2186b",
   "metadata": {},
   "outputs": [
    {
     "data": {
      "text/plain": [
       "<AxesSubplot:xlabel='Distribution Center', ylabel='Product'>"
      ]
     },
     "execution_count": 41,
     "metadata": {},
     "output_type": "execute_result"
    },
    {
     "data": {
      "image/png": "[encoded data removed]",
      "text/plain": [
       "<Figure size 432x288 with 2 Axes>"
      ]
     },
     "metadata": {
      "needs_background": "light"
     },
     "output_type": "display_data"
    }
   ],
   "source": [
    "import matplotlib.pyplot as plt\n",
    "import seaborn as sns\n",
    "\n",
    "sns.heatmap(hmData)"
   ]
  },
  {
   "cell_type": "code",
   "execution_count": 42,
   "id": "e9601c46-c421-4daf-8377-4f42a25c0656",
   "metadata": {},
   "outputs": [
    {
     "data": {
      "image/png": "[encoded data removed]",
      "text/plain": [
       "<Figure size 432x288 with 1 Axes>"
      ]
     },
     "metadata": {
      "needs_background": "light"
     },
     "output_type": "display_data"
    }
   ],
   "source": [
    "intel_data[intel_data['Product'] == 'A'].groupby('Week')['Customer Orders'].sum().plot(kind = 'hist');"
   ]
  },
  {
   "cell_type": "code",
   "execution_count": 43,
   "id": "5edbfacf-30ef-4bfc-9979-2a8b09b019f5",
   "metadata": {},
   "outputs": [
    {
     "data": {
      "image/png": "[encoded data removed]",
      "text/plain": [
       "<Figure size 432x288 with 1 Axes>"
      ]
     },
     "metadata": {
      "needs_background": "light"
     },
     "output_type": "display_data"
    }
   ],
   "source": [
    "intel_data[intel_data['Product'] == 'X'].groupby('Week')['Customer Orders'].sum().plot(kind = 'hist');"
   ]
  },
  {
   "cell_type": "code",
   "execution_count": 44,
   "id": "892b9daa-a0fa-459e-83ef-80b8fc913ed5",
   "metadata": {},
   "outputs": [
    {
     "data": {
      "text/plain": [
       "<AxesSubplot:xlabel='Distribution Center', ylabel='Customer Orders'>"
      ]
     },
     "execution_count": 44,
     "metadata": {},
     "output_type": "execute_result"
    },
    {
     "data": {
      "image/png": "[encoded data removed]",
      "text/plain": [
       "<Figure size 432x288 with 1 Axes>"
      ]
     },
     "metadata": {
      "needs_background": "light"
     },
     "output_type": "display_data"
    }
   ],
   "source": [
    "sns.boxplot(data = intel_data, y='Customer Orders',x = 'Distribution Center')"
   ]
  },
  {
   "cell_type": "markdown",
   "id": "27e28687-658f-460a-996a-137a3fb6b91d",
   "metadata": {},
   "source": [
    "<BR/>\n",
    "<BR/>\n",
    "<HR/>"
   ]
  }
 ],
 "metadata": {
  "kernelspec": {
   "display_name": "Python 3",
   "language": "python",
   "name": "python3"
  },
  "language_info": {
   "codemirror_mode": {
    "name": "ipython",
    "version": 3
   },
   "file_extension": ".py",
   "mimetype": "text/x-python",
   "name": "python",
   "nbconvert_exporter": "python",
   "pygments_lexer": "ipython3",
   "version": "3.8.8"
  }
 },
 "nbformat": 4,
 "nbformat_minor": 5
}
